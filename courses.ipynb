{
 "cells": [
  {
   "cell_type": "markdown",
   "metadata": {},
   "source": [
    "# Courses Demo\n",
    "This Jupyter notebook is for exploring the data set courses20-21.json\n",
    "which consists of all Brandeis courses in the 20-21 academic year (Fall20, Spr21, Sum21) \n",
    "which had at least 1 student enrolled.\n",
    "\n",
    "First we need to read the json file into a list of Python dictionaries"
   ]
  },
  {
   "cell_type": "code",
   "execution_count": 1,
   "metadata": {},
   "outputs": [],
   "source": [
    "import json"
   ]
  },
  {
   "cell_type": "code",
   "execution_count": 2,
   "metadata": {},
   "outputs": [],
   "source": [
    "with open(\"courses20-21.json\",\"r\",encoding='utf-8') as jsonfile:\n",
    "    courses = json.load(jsonfile)"
   ]
  },
  {
   "cell_type": "markdown",
   "metadata": {},
   "source": [
    "## Structure of a course\n",
    "Next we look at the fields of each course dictionary and their values"
   ]
  },
  {
   "cell_type": "code",
   "execution_count": 3,
   "metadata": {},
   "outputs": [
    {
     "name": "stdout",
     "output_type": "stream",
     "text": [
      "there are 7813 courses in the dataset\n",
      "here is the data for course 1246\n"
     ]
    },
    {
     "data": {
      "text/plain": [
       "{'limit': 28,\n",
       " 'times': [{'start': 1080, 'end': 1170, 'days': ['w', 'm']}],\n",
       " 'enrolled': 4,\n",
       " 'details': 'Instruction for this course will be offered remotely. Meeting times for this course are listed in the schedule of classes (in ET).',\n",
       " 'type': 'section',\n",
       " 'status_text': 'Open',\n",
       " 'section': '1',\n",
       " 'waiting': 0,\n",
       " 'instructor': ['An', 'Huang', 'anhuang@brandeis.edu'],\n",
       " 'coinstructors': [],\n",
       " 'code': ['MATH', '223A'],\n",
       " 'subject': 'MATH',\n",
       " 'coursenum': '223A',\n",
       " 'name': 'Lie Algebras: Representation Theory',\n",
       " 'independent_study': False,\n",
       " 'term': '1203',\n",
       " 'description': \"Theorems of Engel and Lie. Semisimple Lie algebras, Cartan's criterion. Universal enveloping algebras, PBW theorem, Serre's construction. Representation theory. Other topics as time permits. Usually offered every second year.\\nAn Huang\"}"
      ]
     },
     "execution_count": 3,
     "metadata": {},
     "output_type": "execute_result"
    }
   ],
   "source": [
    "print('there are',len(courses),'courses in the dataset')\n",
    "print('here is the data for course 1246')\n",
    "courses[1246]"
   ]
  },
  {
   "cell_type": "markdown",
   "metadata": {},
   "source": [
    "## Cleaning the data\n",
    "If we want to sort courses by instructor or by code, we need to replace the lists with tuples (which are immutable lists)"
   ]
  },
  {
   "cell_type": "code",
   "execution_count": 4,
   "metadata": {},
   "outputs": [],
   "source": [
    "for course in courses:\n",
    "        course['instructor'] = tuple(course['instructor'])\n",
    "        course['coinstructors'] = tuple([tuple(f) for f in course['coinstructors']])\n",
    "        course['code']= tuple(course['code'])"
   ]
  },
  {
   "cell_type": "code",
   "execution_count": 5,
   "metadata": {},
   "outputs": [
    {
     "name": "stdout",
     "output_type": "stream",
     "text": [
      "notice that the instructor and code are tuples now\n"
     ]
    },
    {
     "data": {
      "text/plain": [
       "{'limit': 28,\n",
       " 'times': [{'start': 1080, 'end': 1170, 'days': ['w', 'm']}],\n",
       " 'enrolled': 4,\n",
       " 'details': 'Instruction for this course will be offered remotely. Meeting times for this course are listed in the schedule of classes (in ET).',\n",
       " 'type': 'section',\n",
       " 'status_text': 'Open',\n",
       " 'section': '1',\n",
       " 'waiting': 0,\n",
       " 'instructor': ('An', 'Huang', 'anhuang@brandeis.edu'),\n",
       " 'coinstructors': (),\n",
       " 'code': ('MATH', '223A'),\n",
       " 'subject': 'MATH',\n",
       " 'coursenum': '223A',\n",
       " 'name': 'Lie Algebras: Representation Theory',\n",
       " 'independent_study': False,\n",
       " 'term': '1203',\n",
       " 'description': \"Theorems of Engel and Lie. Semisimple Lie algebras, Cartan's criterion. Universal enveloping algebras, PBW theorem, Serre's construction. Representation theory. Other topics as time permits. Usually offered every second year.\\nAn Huang\"}"
      ]
     },
     "execution_count": 5,
     "metadata": {},
     "output_type": "execute_result"
    }
   ],
   "source": [
    "print('notice that the instructor and code are tuples now')\n",
    "courses[1246]"
   ]
  },
  {
   "cell_type": "markdown",
   "metadata": {},
   "source": [
    "# Exploring the data set\n",
    "Now we will show how to use straight python to explore the data set and answer some interesting questions. Next week we will start learning Pandas/Numpy which are packages that make it easier to explore large dataset efficiently.\n",
    "\n",
    "Here are some questions we can try to asnwer:\n",
    "* what are all of the subjects of courses (e.g. COSI, MATH, JAPN, PHIL, ...)\n",
    "* which terms are represented?\n",
    "* how many instructors taught at Brandeis last year?\n",
    "* what were the five largest course sections?\n",
    "* what were the five largest courses (where we combine sections)?\n",
    "* which are the five largest subjects measured by number of courses offered?\n",
    "* which are the five largest courses measured by number of students taught?\n",
    "* which course had the most sections taught in 20-21?\n",
    "* who are the top five faculty in terms of number of students taught?\n",
    "* etc."
   ]
  },
  {
   "cell_type": "code",
   "execution_count": 6,
   "metadata": {},
   "outputs": [
    {
     "data": {
      "text/plain": [
       "272"
      ]
     },
     "execution_count": 6,
     "metadata": {},
     "output_type": "execute_result"
    }
   ],
   "source": [
    "## a: how many faculty taught COSI courses last year?\n",
    "len([i for i in courses if i['subject'] == \"COSI\" ])"
   ]
  },
  {
   "cell_type": "code",
   "execution_count": 6,
   "metadata": {},
   "outputs": [
    {
     "data": {
      "text/plain": [
       "2223"
      ]
     },
     "execution_count": 6,
     "metadata": {},
     "output_type": "execute_result"
    }
   ],
   "source": [
    "## b: what is the total number of students taking COSI courses last year?\n",
    "def filterItemByGroup(subject, item, group = 'subject'):\n",
    "    return [i[item] for i in courses if i[group] == subject]\n",
    "sum(filterItemByGroup(\"COSI\", \"enrolled\"))"
   ]
  },
  {
   "cell_type": "code",
   "execution_count": 8,
   "metadata": {},
   "outputs": [
    {
     "data": {
      "text/plain": [
       "37.0"
      ]
     },
     "execution_count": 8,
     "metadata": {},
     "output_type": "execute_result"
    }
   ],
   "source": [
    "## c: what was the median size of a COSI course last year (counting only those courses with at least 10 students)\n",
    "from numpy import median\n",
    "median([i for i in filterItemByGroup(\"COSI\", \"enrolled\") if i >= 10])"
   ]
  },
  {
   "cell_type": "code",
   "execution_count": 9,
   "metadata": {},
   "outputs": [
    {
     "data": {
      "text/plain": [
       "[('HS', 5318),\n",
       " ('BIOL', 3085),\n",
       " ('BUS', 2766),\n",
       " ('HWL', 2734),\n",
       " ('CHEM', 2322),\n",
       " ('ECON', 2315),\n",
       " ('COSI', 2223),\n",
       " ('MATH', 1785),\n",
       " ('PSYC', 1704),\n",
       " ('ANTH', 1144)]"
      ]
     },
     "execution_count": 9,
     "metadata": {},
     "output_type": "execute_result"
    }
   ],
   "source": [
    "## d: create a list of tuples (E,S) where S is a subject and E is the number of students enrolled in courses in that subject, sort it and print the top 10. This shows the top 10 subjects in terms of number of students taught.\n",
    "subjects = set([course['subject'] for course in courses])\n",
    "## this function sort the input tuple by counts and output the top n rows where n is assigned by the second parameter\n",
    "def topNFromTuple(tupleIn, n = 10):\n",
    "    subTuples_sorted = sorted(tupleIn, key = lambda x : x[1], reverse = True)\n",
    "    return subTuples_sorted[0:n]\n",
    "\n",
    "subTuples = [(i, sum(filterItemByGroup(i, \"enrolled\"))) for i in subjects]\n",
    "topNFromTuple(subTuples)"
   ]
  },
  {
   "cell_type": "code",
   "execution_count": 10,
   "metadata": {},
   "outputs": [
    {
     "data": {
      "text/plain": [
       "[('HS', 188),\n",
       " ('MUS', 72),\n",
       " ('BIOL', 72),\n",
       " ('ENG', 71),\n",
       " ('ANTH', 68),\n",
       " ('BUS', 65),\n",
       " ('NEJS', 64),\n",
       " ('PSYC', 57),\n",
       " ('MATH', 55),\n",
       " ('ECON', 53)]"
      ]
     },
     "execution_count": 10,
     "metadata": {},
     "output_type": "execute_result"
    }
   ],
   "source": [
    "## e: do the same as in (d) but print the top 10 subjects in terms of number of courses offered\n",
    "subTuples = [(i, len(set(filterItemByGroup(i, \"code\")))) for i in subjects] # use set to remove duplicates in a list of \"code\"s\n",
    "topNFromTuple(subTuples)"
   ]
  },
  {
   "cell_type": "code",
   "execution_count": 13,
   "metadata": {},
   "outputs": [
    {
     "data": {
      "text/plain": [
       "[('HS', 87),\n",
       " ('BIOL', 67),\n",
       " ('ECON', 52),\n",
       " ('BCHM', 49),\n",
       " ('BUS', 47),\n",
       " ('HIST', 47),\n",
       " ('BCBP', 46),\n",
       " ('HWL', 42),\n",
       " ('MATH', 37),\n",
       " ('NEJS', 37)]"
      ]
     },
     "execution_count": 13,
     "metadata": {},
     "output_type": "execute_result"
    }
   ],
   "source": [
    "## f: do the same as (d) but print the top 10 subjects in terms of number of faculty teaching courses in that subject\n",
    "subTuples = [(i, len(set(filterItemByGroup(i, \"instructor\")))) for i in subjects] # set to remove duplicates in a list of instructors\n",
    "topNFromTuple(subTuples)"
   ]
  },
  {
   "cell_type": "code",
   "execution_count": 14,
   "metadata": {},
   "outputs": [
    {
     "data": {
      "text/plain": [
       "[(('Leah', 'Berkenwald', 'leahb@brandeis.edu'), 926),\n",
       " (('Kene Nathan', 'Piasta', 'kpiasta@brandeis.edu'), 583),\n",
       " (('Stephanie', 'Murray', 'murray@brandeis.edu'), 515),\n",
       " (('Milos', 'Dolnik', 'dolnik@brandeis.edu'), 489),\n",
       " (('Maria', 'de Boef Miara', 'mmiara@brandeis.edu'), 450),\n",
       " (('Bryan', 'Ingoglia', 'ingoglia@brandeis.edu'), 439),\n",
       " (('Rachel V.E.', 'Woodruff', 'woodruff@brandeis.edu'), 422),\n",
       " (('Timothy J', 'Hickey', 'tjhickey@brandeis.edu'), 411),\n",
       " (('Daniel', 'Breen', 'dbreen91@brandeis.edu'), 375),\n",
       " (('Melissa', 'Kosinski-Collins', 'kosinski@brandeis.edu'), 365),\n",
       " (('Claudia', 'Novack', 'novack@brandeis.edu'), 355),\n",
       " (('Antonella', 'DiLillo', 'dilant@brandeis.edu'), 342),\n",
       " (('Jon', 'Chilingerian', 'chilinge@brandeis.edu'), 330),\n",
       " (('Ahmad', 'Namini', 'anamini@brandeis.edu'), 327),\n",
       " (('Iraklis', 'Tsekourakis', 'tsekourakis@brandeis.edu'), 316),\n",
       " (('Geoffrey', 'Clarke', 'geoffclarke@brandeis.edu'), 315),\n",
       " (('Peter', 'Mistark', 'pmistark@brandeis.edu'), 277),\n",
       " (('Brenda', 'Anderson', 'banders@brandeis.edu'), 275),\n",
       " (('Colleen', 'Hitchcock', 'hitchcock@brandeis.edu'), 261),\n",
       " (('Scott A.', 'Redenius', 'redenius@brandeis.edu'), 259)]"
      ]
     },
     "execution_count": 14,
     "metadata": {},
     "output_type": "execute_result"
    }
   ],
   "source": [
    "## g: list the top 20 faculty in terms of number of students they taught\n",
    "## Note: a student enrolled in 2 courses will be counted as 2 for a instrcutor, as there is no way to distinguish them!\n",
    "instructors = set([course['instructor'] for course in courses])\n",
    "subTuples = [(i, sum(filterItemByGroup(i, \"enrolled\", group = \"instructor\"))) for i in instructors]\n",
    "topNFromTuple(subTuples, 20)"
   ]
  },
  {
   "cell_type": "code",
   "execution_count": 15,
   "metadata": {},
   "outputs": [
    {
     "data": {
      "text/plain": [
       "[(('HWL', '1'), 940),\n",
       " (('HWL', '1-PRE'), 879),\n",
       " (('BIOL', '14A'), 358),\n",
       " (('COSI', '10A'), 343),\n",
       " (('PSYC', '10A'), 336),\n",
       " (('BIOL', '15B'), 287),\n",
       " (('MATH', '10A'), 280),\n",
       " (('BIOL', '18B'), 274),\n",
       " (('BIOL', '18A'), 262),\n",
       " (('CHEM', '29A'), 245),\n",
       " (('CHEM', '29B'), 239),\n",
       " (('CHEM', '25A'), 236),\n",
       " (('PSYC', '51A'), 231),\n",
       " (('CHEM', '25B'), 226),\n",
       " (('COSI', '12B'), 225),\n",
       " (('BUS', '6A'), 215),\n",
       " (('CHEM', '18A'), 208),\n",
       " (('ECON', '10A'), 207),\n",
       " (('MATH', '15A'), 204),\n",
       " (('ANTH', '1A'), 201)]"
      ]
     },
     "execution_count": 15,
     "metadata": {},
     "output_type": "execute_result"
    }
   ],
   "source": [
    "## h: list the top 20 courses in terms of number of students taking that course (where you combine different sections and semesters, i.e. just use the subject and course number)\n",
    "## Note: here I just use the subject and course number!!\n",
    "codes = set([course['code'] for course in courses])\n",
    "subTuples = [(i, sum(filterItemByGroup(i, \"enrolled\", group = \"code\"))) for i in codes]\n",
    "topNFromTuple(subTuples, 20)"
   ]
  },
  {
   "cell_type": "code",
   "execution_count": 16,
   "metadata": {},
   "outputs": [
    {
     "data": {
      "text/html": [
       "<div>\n",
       "<style scoped>\n",
       "    .dataframe tbody tr th:only-of-type {\n",
       "        vertical-align: middle;\n",
       "    }\n",
       "\n",
       "    .dataframe tbody tr th {\n",
       "        vertical-align: top;\n",
       "    }\n",
       "\n",
       "    .dataframe thead th {\n",
       "        text-align: right;\n",
       "    }\n",
       "</style>\n",
       "<table border=\"1\" class=\"dataframe\">\n",
       "  <thead>\n",
       "    <tr style=\"text-align: right;\">\n",
       "      <th></th>\n",
       "      <th>instructor</th>\n",
       "      <th>subject</th>\n",
       "    </tr>\n",
       "  </thead>\n",
       "  <tbody>\n",
       "    <tr>\n",
       "      <th>573</th>\n",
       "      <td>(David, Powelstock, pstock@brandeis.edu)</td>\n",
       "      <td>HIST</td>\n",
       "    </tr>\n",
       "    <tr>\n",
       "      <th>1898</th>\n",
       "      <td>(David, Powelstock, pstock@brandeis.edu)</td>\n",
       "      <td>COML</td>\n",
       "    </tr>\n",
       "    <tr>\n",
       "      <th>2039</th>\n",
       "      <td>(David, Powelstock, pstock@brandeis.edu)</td>\n",
       "      <td>ENG</td>\n",
       "    </tr>\n",
       "    <tr>\n",
       "      <th>2074</th>\n",
       "      <td>(David, Powelstock, pstock@brandeis.edu)</td>\n",
       "      <td>ECS</td>\n",
       "    </tr>\n",
       "    <tr>\n",
       "      <th>2531</th>\n",
       "      <td>(David, Powelstock, pstock@brandeis.edu)</td>\n",
       "      <td>RUS</td>\n",
       "    </tr>\n",
       "    <tr>\n",
       "      <th>3453</th>\n",
       "      <td>(David, Powelstock, pstock@brandeis.edu)</td>\n",
       "      <td>RECS</td>\n",
       "    </tr>\n",
       "  </tbody>\n",
       "</table>\n",
       "</div>"
      ],
      "text/plain": [
       "                                    instructor subject\n",
       "573   (David, Powelstock, pstock@brandeis.edu)    HIST\n",
       "1898  (David, Powelstock, pstock@brandeis.edu)    COML\n",
       "2039  (David, Powelstock, pstock@brandeis.edu)     ENG\n",
       "2074  (David, Powelstock, pstock@brandeis.edu)     ECS\n",
       "2531  (David, Powelstock, pstock@brandeis.edu)     RUS\n",
       "3453  (David, Powelstock, pstock@brandeis.edu)    RECS"
      ]
     },
     "execution_count": 16,
     "metadata": {},
     "output_type": "execute_result"
    }
   ],
   "source": [
    "# i: Create your own interesting question (each team member creates their own) and use Python to answer that question.\n",
    "# zihao: who is the instructor involved in teaching courses in most subjects?\n",
    "import pandas as pd\n",
    "subdata = [[i['instructor'], i['subject']] for i in courses]\n",
    "df = pd.DataFrame(subdata, columns = ['instructor', 'subject'])\n",
    "\n",
    "df_filter = df.groupby('instructor')['subject'].apply(lambda x: len(set(x)))\n",
    "df_filter.sort_values(ascending = False)\n",
    "\n",
    "df[df['instructor'] == df_filter.sort_values(ascending = False).index[1]].drop_duplicates()"
   ]
  },
  {
   "cell_type": "code",
   "execution_count": null,
   "metadata": {},
   "outputs": [],
   "source": []
  },
  {
   "cell_type": "code",
   "execution_count": null,
   "metadata": {},
   "outputs": [],
   "source": []
  }
 ],
 "metadata": {
  "kernelspec": {
   "display_name": "Python 3 (ipykernel)",
   "language": "python",
   "name": "python3"
  },
  "language_info": {
   "codemirror_mode": {
    "name": "ipython",
    "version": 3
   },
   "file_extension": ".py",
   "mimetype": "text/x-python",
   "name": "python",
   "nbconvert_exporter": "python",
   "pygments_lexer": "ipython3",
   "version": "3.9.7"
  }
 },
 "nbformat": 4,
 "nbformat_minor": 4
}
