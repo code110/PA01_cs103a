{
 "cells": [
  {
   "cell_type": "markdown",
   "metadata": {},
   "source": [
    "# Courses Demo\n",
    "This Jupyter notebook is for exploring the data set courses20-21.json\n",
    "which consists of all Brandeis courses in the 20-21 academic year (Fall20, Spr21, Sum21) \n",
    "which had at least 1 student enrolled.\n",
    "\n",
    "First we need to read the json file into a list of Python dictionaries"
   ]
  },
  {
   "cell_type": "code",
   "execution_count": 2,
   "metadata": {},
   "outputs": [],
   "source": [
    "import json"
   ]
  },
  {
   "cell_type": "code",
   "execution_count": 3,
   "metadata": {},
   "outputs": [],
   "source": [
    "with open(\"courses20-21.json\",\"r\",encoding='utf-8') as jsonfile:\n",
    "    courses = json.load(jsonfile)"
   ]
  },
  {
   "cell_type": "markdown",
   "metadata": {},
   "source": [
    "## Structure of a course\n",
    "Next we look at the fields of each course dictionary and their values"
   ]
  },
  {
   "cell_type": "code",
   "execution_count": 4,
   "metadata": {},
   "outputs": [
    {
     "name": "stdout",
     "output_type": "stream",
     "text": [
      "there are 7813 courses in the dataset\n",
      "here is the data for course 1246\n"
     ]
    },
    {
     "data": {
      "text/plain": [
       "{'limit': 28,\n",
       " 'times': [{'start': 1080, 'end': 1170, 'days': ['w', 'm']}],\n",
       " 'enrolled': 4,\n",
       " 'details': 'Instruction for this course will be offered remotely. Meeting times for this course are listed in the schedule of classes (in ET).',\n",
       " 'type': 'section',\n",
       " 'status_text': 'Open',\n",
       " 'section': '1',\n",
       " 'waiting': 0,\n",
       " 'instructor': ['An', 'Huang', 'anhuang@brandeis.edu'],\n",
       " 'coinstructors': [],\n",
       " 'code': ['MATH', '223A'],\n",
       " 'subject': 'MATH',\n",
       " 'coursenum': '223A',\n",
       " 'name': 'Lie Algebras: Representation Theory',\n",
       " 'independent_study': False,\n",
       " 'term': '1203',\n",
       " 'description': \"Theorems of Engel and Lie. Semisimple Lie algebras, Cartan's criterion. Universal enveloping algebras, PBW theorem, Serre's construction. Representation theory. Other topics as time permits. Usually offered every second year.\\nAn Huang\"}"
      ]
     },
     "execution_count": 4,
     "metadata": {},
     "output_type": "execute_result"
    }
   ],
   "source": [
    "print('there are',len(courses),'courses in the dataset')\n",
    "print('here is the data for course 1246')\n",
    "courses[1246]"
   ]
  },
  {
   "cell_type": "markdown",
   "metadata": {},
   "source": [
    "## Cleaning the data\n",
    "If we want to sort courses by instructor or by code, we need to replace the lists with tuples (which are immutable lists)"
   ]
  },
  {
   "cell_type": "code",
   "execution_count": 5,
   "metadata": {},
   "outputs": [],
   "source": [
    "for course in courses:\n",
    "        course['instructor'] = tuple(course['instructor'])\n",
    "        course['coinstructors'] = tuple([tuple(f) for f in course['coinstructors']])\n",
    "        course['code']= tuple(course['code'])"
   ]
  },
  {
   "cell_type": "code",
   "execution_count": 6,
   "metadata": {},
   "outputs": [
    {
     "name": "stdout",
     "output_type": "stream",
     "text": [
      "notice that the instructor and code are tuples now\n"
     ]
    },
    {
     "data": {
      "text/plain": [
       "{'limit': 28,\n",
       " 'times': [{'start': 1080, 'end': 1170, 'days': ['w', 'm']}],\n",
       " 'enrolled': 4,\n",
       " 'details': 'Instruction for this course will be offered remotely. Meeting times for this course are listed in the schedule of classes (in ET).',\n",
       " 'type': 'section',\n",
       " 'status_text': 'Open',\n",
       " 'section': '1',\n",
       " 'waiting': 0,\n",
       " 'instructor': ('An', 'Huang', 'anhuang@brandeis.edu'),\n",
       " 'coinstructors': (),\n",
       " 'code': ('MATH', '223A'),\n",
       " 'subject': 'MATH',\n",
       " 'coursenum': '223A',\n",
       " 'name': 'Lie Algebras: Representation Theory',\n",
       " 'independent_study': False,\n",
       " 'term': '1203',\n",
       " 'description': \"Theorems of Engel and Lie. Semisimple Lie algebras, Cartan's criterion. Universal enveloping algebras, PBW theorem, Serre's construction. Representation theory. Other topics as time permits. Usually offered every second year.\\nAn Huang\"}"
      ]
     },
     "execution_count": 6,
     "metadata": {},
     "output_type": "execute_result"
    }
   ],
   "source": [
    "print('notice that the instructor and code are tuples now')\n",
    "courses[1246]"
   ]
  },
  {
   "cell_type": "markdown",
   "metadata": {},
   "source": [
    "# Exploring the data set\n",
    "Now we will show how to use straight python to explore the data set and answer some interesting questions. Next week we will start learning Pandas/Numpy which are packages that make it easier to explore large dataset efficiently.\n",
    "\n",
    "Here are some questions we can try to asnwer:\n",
    "* what are all of the subjects of courses (e.g. COSI, MATH, JAPN, PHIL, ...)\n",
    "* which terms are represented?\n",
    "* how many instructors taught at Brandeis last year?\n",
    "* what were the five largest course sections?\n",
    "* what were the five largest courses (where we combine sections)?\n",
    "* which are the five largest subjects measured by number of courses offered?\n",
    "* which are the five largest courses measured by number of students taught?\n",
    "* which course had the most sections taught in 20-21?\n",
    "* who are the top five faculty in terms of number of students taught?\n",
    "* etc."
   ]
  },
  {
   "cell_type": "markdown",
   "metadata": {},
   "source": [
    "# a: how many faculty taught COSI courses last year?"
   ]
  },
  {
   "cell_type": "code",
   "execution_count": 7,
   "metadata": {},
   "outputs": [
    {
     "data": {
      "text/plain": [
       "272"
      ]
     },
     "execution_count": 7,
     "metadata": {},
     "output_type": "execute_result"
    }
   ],
   "source": [
    "len([i for i in courses if i['subject'] == \"COSI\" ])"
   ]
  },
  {
   "cell_type": "markdown",
   "metadata": {},
   "source": [
    "# b: what is the total number of students taking COSI courses last year?"
   ]
  },
  {
   "cell_type": "code",
   "execution_count": 8,
   "metadata": {},
   "outputs": [
    {
     "data": {
      "text/plain": [
       "2223"
      ]
     },
     "execution_count": 8,
     "metadata": {},
     "output_type": "execute_result"
    }
   ],
   "source": [
    "def filterItemByGroup(subject, item, group = 'subject'):\n",
    "    return [i[item] for i in courses if i[group] == subject]\n",
    "sum(filterItemByGroup(\"COSI\", \"enrolled\"))"
   ]
  },
  {
   "cell_type": "markdown",
   "metadata": {},
   "source": [
    "# c: what was the median size of a COSI course last year (counting only those courses with at least 10 students)"
   ]
  },
  {
   "cell_type": "code",
   "execution_count": 9,
   "metadata": {},
   "outputs": [
    {
     "data": {
      "text/plain": [
       "37.0"
      ]
     },
     "execution_count": 9,
     "metadata": {},
     "output_type": "execute_result"
    }
   ],
   "source": [
    "from numpy import median\n",
    "median([i for i in filterItemByGroup(\"COSI\", \"enrolled\") if i >= 10])"
   ]
  },
  {
   "cell_type": "markdown",
   "metadata": {},
   "source": [
    "# d: create a list of tuples (E,S) where S is a subject and E is the number of students enrolled in courses in that subject, sort it and print the top 10. This shows the top 10 subjects in terms of number of students taught."
   ]
  },
  {
   "cell_type": "code",
   "execution_count": 27,
   "metadata": {},
   "outputs": [
    {
     "data": {
      "text/plain": [
       "[('HS', 5318),\n",
       " ('BIOL', 3085),\n",
       " ('BUS', 2766),\n",
       " ('HWL', 2734),\n",
       " ('CHEM', 2322),\n",
       " ('ECON', 2315),\n",
       " ('COSI', 2223),\n",
       " ('MATH', 1785),\n",
       " ('PSYC', 1704),\n",
       " ('ANTH', 1144)]"
      ]
     },
     "execution_count": 27,
     "metadata": {},
     "output_type": "execute_result"
    }
   ],
   "source": [
    "subjects = set([course['subject'] for course in courses])\n",
    "## this function sort the input tuple by counts and output the top n rows where n is assigned by the second parameter\n",
    "def topNFromTuple(tupleIn, n = 10):\n",
    "    subTuples_sorted = sorted(tupleIn, key = lambda x : x[1], reverse = True)\n",
    "    return subTuples_sorted[0:n]\n",
    "\n",
    "subTuples = [(i, sum(filterItemByGroup(i, \"enrolled\"))) for i in subjects]\n",
    "topNFromTuple(subTuples)"
   ]
  },
  {
   "cell_type": "markdown",
   "metadata": {},
   "source": [
    "# e: do the same as in (d) but print the top 10 subjects in terms of number of courses offered"
   ]
  },
  {
   "cell_type": "code",
   "execution_count": 11,
   "metadata": {},
   "outputs": [
    {
     "data": {
      "text/plain": [
       "[('HS', 188),\n",
       " ('BIOL', 72),\n",
       " ('MUS', 72),\n",
       " ('ENG', 71),\n",
       " ('ANTH', 68),\n",
       " ('BUS', 65),\n",
       " ('NEJS', 64),\n",
       " ('PSYC', 57),\n",
       " ('MATH', 55),\n",
       " ('ECON', 53)]"
      ]
     },
     "execution_count": 11,
     "metadata": {},
     "output_type": "execute_result"
    }
   ],
   "source": [
    "subTuples = [(i, len(set(filterItemByGroup(i, \"code\")))) for i in subjects] # use set to remove duplicates in a list of \"code\"s\n",
    "topNFromTuple(subTuples)"
   ]
  },
  {
   "cell_type": "markdown",
   "metadata": {},
   "source": [
    "# f: do the same as (d) but print the top 10 subjects in terms of number of faculty teaching courses in that subject"
   ]
  },
  {
   "cell_type": "code",
   "execution_count": 12,
   "metadata": {},
   "outputs": [
    {
     "data": {
      "text/plain": [
       "[('HS', 87),\n",
       " ('BIOL', 67),\n",
       " ('ECON', 52),\n",
       " ('BCHM', 49),\n",
       " ('HIST', 47),\n",
       " ('BUS', 47),\n",
       " ('BCBP', 46),\n",
       " ('HWL', 42),\n",
       " ('MATH', 37),\n",
       " ('NEJS', 37)]"
      ]
     },
     "execution_count": 12,
     "metadata": {},
     "output_type": "execute_result"
    }
   ],
   "source": [
    "subTuples = [(i, len(set(filterItemByGroup(i, \"instructor\")))) for i in subjects] # set to remove duplicates in a list of instructors\n",
    "topNFromTuple(subTuples)"
   ]
  },
  {
   "cell_type": "markdown",
   "metadata": {},
   "source": [
    "# g: list the top 20 faculty in terms of number of students they taught"
   ]
  },
  {
   "cell_type": "code",
   "execution_count": 13,
   "metadata": {},
   "outputs": [
    {
     "data": {
      "text/plain": [
       "[(('Leah', 'Berkenwald', 'leahb@brandeis.edu'), 926),\n",
       " (('Kene Nathan', 'Piasta', 'kpiasta@brandeis.edu'), 583),\n",
       " (('Stephanie', 'Murray', 'murray@brandeis.edu'), 515),\n",
       " (('Milos', 'Dolnik', 'dolnik@brandeis.edu'), 489),\n",
       " (('Maria', 'de Boef Miara', 'mmiara@brandeis.edu'), 450),\n",
       " (('Bryan', 'Ingoglia', 'ingoglia@brandeis.edu'), 439),\n",
       " (('Rachel V.E.', 'Woodruff', 'woodruff@brandeis.edu'), 422),\n",
       " (('Timothy J', 'Hickey', 'tjhickey@brandeis.edu'), 411),\n",
       " (('Daniel', 'Breen', 'dbreen91@brandeis.edu'), 375),\n",
       " (('Melissa', 'Kosinski-Collins', 'kosinski@brandeis.edu'), 365),\n",
       " (('Claudia', 'Novack', 'novack@brandeis.edu'), 355),\n",
       " (('Antonella', 'DiLillo', 'dilant@brandeis.edu'), 342),\n",
       " (('Jon', 'Chilingerian', 'chilinge@brandeis.edu'), 330),\n",
       " (('Ahmad', 'Namini', 'anamini@brandeis.edu'), 327),\n",
       " (('Iraklis', 'Tsekourakis', 'tsekourakis@brandeis.edu'), 316),\n",
       " (('Geoffrey', 'Clarke', 'geoffclarke@brandeis.edu'), 315),\n",
       " (('Peter', 'Mistark', 'pmistark@brandeis.edu'), 277),\n",
       " (('Brenda', 'Anderson', 'banders@brandeis.edu'), 275),\n",
       " (('Colleen', 'Hitchcock', 'hitchcock@brandeis.edu'), 261),\n",
       " (('Scott A.', 'Redenius', 'redenius@brandeis.edu'), 259)]"
      ]
     },
     "execution_count": 13,
     "metadata": {},
     "output_type": "execute_result"
    }
   ],
   "source": [
    "## Note: a student enrolled in 2 courses will be counted as 2 for a instrcutor, as there is no way to distinguish them!\n",
    "instructors = set([course['instructor'] for course in courses])\n",
    "subTuples = [(i, sum(filterItemByGroup(i, \"enrolled\", group = \"instructor\"))) for i in instructors]\n",
    "topNFromTuple(subTuples, 20)"
   ]
  },
  {
   "cell_type": "markdown",
   "metadata": {},
   "source": [
    "# h: list the top 20 courses in terms of number of students taking that course (where you combine different sections and semesters, i.e. just use the subject and course number)"
   ]
  },
  {
   "cell_type": "code",
   "execution_count": 14,
   "metadata": {},
   "outputs": [
    {
     "data": {
      "text/plain": [
       "[(('HWL', '1'), 940),\n",
       " (('HWL', '1-PRE'), 879),\n",
       " (('BIOL', '14A'), 358),\n",
       " (('COSI', '10A'), 343),\n",
       " (('PSYC', '10A'), 336),\n",
       " (('BIOL', '15B'), 287),\n",
       " (('MATH', '10A'), 280),\n",
       " (('BIOL', '18B'), 274),\n",
       " (('BIOL', '18A'), 262),\n",
       " (('CHEM', '29A'), 245),\n",
       " (('CHEM', '29B'), 239),\n",
       " (('CHEM', '25A'), 236),\n",
       " (('PSYC', '51A'), 231),\n",
       " (('CHEM', '25B'), 226),\n",
       " (('COSI', '12B'), 225),\n",
       " (('BUS', '6A'), 215),\n",
       " (('CHEM', '18A'), 208),\n",
       " (('ECON', '10A'), 207),\n",
       " (('MATH', '15A'), 204),\n",
       " (('ANTH', '1A'), 201)]"
      ]
     },
     "execution_count": 14,
     "metadata": {},
     "output_type": "execute_result"
    }
   ],
   "source": [
    "## Note: here I just use the subject and course number!!\n",
    "codes = set([course['code'] for course in courses])\n",
    "subTuples = [(i, sum(filterItemByGroup(i, \"enrolled\", group = \"code\"))) for i in codes]\n",
    "topNFromTuple(subTuples, 20)"
   ]
  },
  {
   "cell_type": "markdown",
   "metadata": {},
   "source": [
    "# i: Create your own interesting question (each team member creates their own) and use Python to answer that question.\n",
    "## zihao: who is the instructor involved in teaching courses in most subjects?"
   ]
  },
  {
   "cell_type": "code",
   "execution_count": 15,
   "metadata": {},
   "outputs": [
    {
     "data": {
      "text/html": [
       "<div>\n",
       "<style scoped>\n",
       "    .dataframe tbody tr th:only-of-type {\n",
       "        vertical-align: middle;\n",
       "    }\n",
       "\n",
       "    .dataframe tbody tr th {\n",
       "        vertical-align: top;\n",
       "    }\n",
       "\n",
       "    .dataframe thead th {\n",
       "        text-align: right;\n",
       "    }\n",
       "</style>\n",
       "<table border=\"1\" class=\"dataframe\">\n",
       "  <thead>\n",
       "    <tr style=\"text-align: right;\">\n",
       "      <th></th>\n",
       "      <th>index</th>\n",
       "      <th>instructor</th>\n",
       "      <th>subject</th>\n",
       "    </tr>\n",
       "  </thead>\n",
       "  <tbody>\n",
       "    <tr>\n",
       "      <th>0</th>\n",
       "      <td>88</td>\n",
       "      <td>(Ellen, Schattschneider, eschatt@brandeis.edu)</td>\n",
       "      <td>ANTH</td>\n",
       "    </tr>\n",
       "    <tr>\n",
       "      <th>1</th>\n",
       "      <td>650</td>\n",
       "      <td>(Ellen, Schattschneider, eschatt@brandeis.edu)</td>\n",
       "      <td>WGS</td>\n",
       "    </tr>\n",
       "    <tr>\n",
       "      <th>2</th>\n",
       "      <td>1760</td>\n",
       "      <td>(Ellen, Schattschneider, eschatt@brandeis.edu)</td>\n",
       "      <td>EAS</td>\n",
       "    </tr>\n",
       "    <tr>\n",
       "      <th>3</th>\n",
       "      <td>1964</td>\n",
       "      <td>(Ellen, Schattschneider, eschatt@brandeis.edu)</td>\n",
       "      <td>REL</td>\n",
       "    </tr>\n",
       "    <tr>\n",
       "      <th>4</th>\n",
       "      <td>2287</td>\n",
       "      <td>(Ellen, Schattschneider, eschatt@brandeis.edu)</td>\n",
       "      <td>IGS</td>\n",
       "    </tr>\n",
       "    <tr>\n",
       "      <th>5</th>\n",
       "      <td>4859</td>\n",
       "      <td>(Ellen, Schattschneider, eschatt@brandeis.edu)</td>\n",
       "      <td>GS</td>\n",
       "    </tr>\n",
       "  </tbody>\n",
       "</table>\n",
       "</div>"
      ],
      "text/plain": [
       "   index                                      instructor subject\n",
       "0     88  (Ellen, Schattschneider, eschatt@brandeis.edu)    ANTH\n",
       "1    650  (Ellen, Schattschneider, eschatt@brandeis.edu)     WGS\n",
       "2   1760  (Ellen, Schattschneider, eschatt@brandeis.edu)     EAS\n",
       "3   1964  (Ellen, Schattschneider, eschatt@brandeis.edu)     REL\n",
       "4   2287  (Ellen, Schattschneider, eschatt@brandeis.edu)     IGS\n",
       "5   4859  (Ellen, Schattschneider, eschatt@brandeis.edu)      GS"
      ]
     },
     "execution_count": 15,
     "metadata": {},
     "output_type": "execute_result"
    }
   ],
   "source": [
    "import pandas as pd\n",
    "subdata = [[i['instructor'], i['subject']] for i in courses]\n",
    "df = pd.DataFrame(subdata, columns = ['instructor', 'subject'])\n",
    "\n",
    "df_filter = df.groupby('instructor')['subject'].apply(lambda x: len(set(x)))\n",
    "df_filter.sort_values(ascending = False)\n",
    "\n",
    "df[df['instructor'] == df_filter.sort_values(ascending = False).index[1]].drop_duplicates().reset_index()"
   ]
  },
  {
   "cell_type": "markdown",
   "metadata": {},
   "source": [
    "## David, Powelstock is involved in 6 different subjects"
   ]
  },
  {
   "cell_type": "markdown",
   "metadata": {},
   "source": [
    "## Junhao: list top ten courses in term of having most waiting students"
   ]
  },
  {
   "cell_type": "code",
   "execution_count": 30,
   "metadata": {},
   "outputs": [
    {
     "data": {
      "text/plain": [
       "[(('BIOL', '51A'), 27),\n",
       " (('NPSY', '22B'), 26),\n",
       " (('HWL', '14'), 23),\n",
       " (('HWL', '12'), 23),\n",
       " (('BIOL', '51A'), 21),\n",
       " (('MATH', '8A'), 21),\n",
       " (('BIOL', '43B'), 20),\n",
       " (('BIOL', '43B'), 18),\n",
       " (('PHIL', '23B'), 18),\n",
       " (('BIOL', '43B'), 16)]"
      ]
     },
     "execution_count": 30,
     "metadata": {},
     "output_type": "execute_result"
    }
   ],
   "source": [
    "waiting = [(c['code'],c['waiting']) for c in courses if c['waiting'] > 0]\n",
    "topNFromTuple(waiting,10)"
   ]
  },
  {
   "cell_type": "markdown",
   "metadata": {},
   "source": [
    "## Tingwei: list top ten courses have coinstructors in terms of number of student taking the course."
   ]
  },
  {
   "cell_type": "code",
   "execution_count": 36,
   "metadata": {},
   "outputs": [
    {
     "data": {
      "text/plain": [
       "[(('HWL', '1-PRE'), 'Introduction to Navigating Health and Safety', 784),\n",
       " (('HWL', '1-PRE'), 'Introduction to Navigating Health and Safety', 95),\n",
       " (('NBIO', '140B'), 'Principles of Neuroscience', 70),\n",
       " (('CHEM', '15B'), 'Honors General Chemistry II', 53),\n",
       " (('AAAS', '5A'), 'Introduction to African and African American Studies', 45),\n",
       " (('THA', '10A'), 'Theater as Performance', 37),\n",
       " (('BUS', '224G'), 'Launching Your Global Career', 36),\n",
       " (('HS', '232A'), 'Team Consulting Project Workshop', 36),\n",
       " (('CHEM', '300C'), 'Chemistry Colloquium', 33),\n",
       " (('HS', '491G'), 'Physicians Field Experience', 32)]"
      ]
     },
     "execution_count": 36,
     "metadata": {},
     "output_type": "execute_result"
    }
   ],
   "source": [
    "coinsturctors=[(i['code'],i['name'],i['enrolled']) for i in courses if len(i['coinstructors'])>0]\n",
    "coinsturctors_sorted=sorted(coinsturctors, key = lambda x : x[2], reverse = True)\n",
    "coinsturctors_sorted[0:10]"
   ]
  },
  {
   "cell_type": "code",
   "execution_count": null,
   "metadata": {},
   "outputs": [],
   "source": []
  }
 ],
 "metadata": {
  "kernelspec": {
   "display_name": "Python 3",
   "language": "python",
   "name": "python3"
  },
  "language_info": {
   "codemirror_mode": {
    "name": "ipython",
    "version": 3
   },
   "file_extension": ".py",
   "mimetype": "text/x-python",
   "name": "python",
   "nbconvert_exporter": "python",
   "pygments_lexer": "ipython3",
   "version": "3.7.6"
  }
 },
 "nbformat": 4,
 "nbformat_minor": 4
}
