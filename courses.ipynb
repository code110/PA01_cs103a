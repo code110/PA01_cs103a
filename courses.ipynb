{
 "cells": [
  {
   "cell_type": "markdown",
   "metadata": {},
   "source": [
    "# Courses Demo\n",
    "This Jupyter notebook is for exploring the data set courses20-21.json\n",
    "which consists of all Brandeis courses in the 20-21 academic year (Fall20, Spr21, Sum21) \n",
    "which had at least 1 student enrolled.\n",
    "\n",
    "First we need to read the json file into a list of Python dictionaries"
   ]
  },
  {
   "cell_type": "code",
   "execution_count": 1,
   "metadata": {},
   "outputs": [],
   "source": [
    "import json"
   ]
  },
  {
   "cell_type": "code",
   "execution_count": 2,
   "metadata": {},
   "outputs": [],
   "source": [
    "with open(\"courses20-21.json\",\"r\",encoding='utf-8') as jsonfile:\n",
    "    courses = json.load(jsonfile)"
   ]
  },
  {
   "cell_type": "markdown",
   "metadata": {},
   "source": [
    "## Structure of a course\n",
    "Next we look at the fields of each course dictionary and their values"
   ]
  },
  {
   "cell_type": "code",
   "execution_count": null,
   "metadata": {},
   "outputs": [],
   "source": [
    "print('there are',len(courses),'courses in the dataset')\n",
    "print('here is the data for course 1246')\n",
    "courses[1246]"
   ]
  },
  {
   "cell_type": "markdown",
   "metadata": {},
   "source": [
    "## Cleaning the data\n",
    "If we want to sort courses by instructor or by code, we need to replace the lists with tuples (which are immutable lists)"
   ]
  },
  {
   "cell_type": "code",
   "execution_count": 4,
   "metadata": {},
   "outputs": [],
   "source": [
    "for course in courses:\n",
    "        course['instructor'] = tuple(course['instructor'])\n",
    "        course['coinstructors'] = tuple([tuple(f) for f in course['coinstructors']])\n",
    "        course['code']= tuple(course['code'])"
   ]
  },
  {
   "cell_type": "code",
   "execution_count": null,
   "metadata": {},
   "outputs": [],
   "source": [
    "print('notice that the instructor and code are tuples now')\n",
    "courses[1246]"
   ]
  },
  {
   "cell_type": "markdown",
   "metadata": {},
   "source": [
    "# Exploring the data set\n",
    "Now we will show how to use straight python to explore the data set and answer some interesting questions. Next week we will start learning Pandas/Numpy which are packages that make it easier to explore large dataset efficiently.\n",
    "\n",
    "Here are some questions we can try to asnwer:\n",
    "* what are all of the subjects of courses (e.g. COSI, MATH, JAPN, PHIL, ...)\n",
    "* which terms are represented?\n",
    "* how many instructors taught at Brandeis last year?\n",
    "* what were the five largest course sections?\n",
    "* what were the five largest courses (where we combine sections)?\n",
    "* which are the five largest subjects measured by number of courses offered?\n",
    "* which are the five largest courses measured by number of students taught?\n",
    "* which course had the most sections taught in 20-21?\n",
    "* who are the top five faculty in terms of number of students taught?\n",
    "* etc."
   ]
  },
  {
   "cell_type": "code",
   "execution_count": null,
   "metadata": {},
   "outputs": [],
   "source": [
    "## a: how many faculty taught COSI courses last year?\n",
    "len([i for i in courses if i['subject'] == \"COSI\" ])"
   ]
  },
  {
   "cell_type": "code",
   "execution_count": null,
   "metadata": {},
   "outputs": [],
   "source": [
    "## b: what is the total number of students taking COSI courses last year?\n",
    "def filterItemByGroup(subject, item, group = 'subject'):\n",
    "    return [i[item] for i in courses if i[group] == subject]\n",
    "sum(countStudentBySubject(\"COSI\", \"enrolled\"))"
   ]
  },
  {
   "cell_type": "code",
   "execution_count": null,
   "metadata": {},
   "outputs": [],
   "source": [
    "## c: what was the median size of a COSI course last year (counting only those courses with at least 10 students)\n",
    "from numpy import median\n",
    "median([i for i in filterItemByGroup(\"COSI\", \"enrolled\") if i >= 10])"
   ]
  },
  {
   "cell_type": "code",
   "execution_count": null,
   "metadata": {},
   "outputs": [],
   "source": [
    "## d: create a list of tuples (E,S) where S is a subject and E is the number of students enrolled in courses in that subject, sort it and print the top 10. This shows the top 10 subjects in terms of number of students taught.\n",
    "subjects = set([course['subject'] for course in courses])\n",
    "## this function sort the input tuple by counts and output the top n rows where n is assigned by the second parameter\n",
    "def topNFromTuple(tupleIn, n = 10):\n",
    "    subTuples_sorted = sorted(subTuples, key = lambda x : x[1], reverse = True)\n",
    "    return subTuples_sorted[0:n]\n",
    "\n",
    "subTuples = [(i, sum(filterItemByGroup(i, \"enrolled\"))) for i in subjects]\n",
    "topTenFromTuple(subTuples)"
   ]
  },
  {
   "cell_type": "code",
   "execution_count": null,
   "metadata": {},
   "outputs": [],
   "source": [
    "## e: do the same as in (d) but print the top 10 subjects in terms of number of courses offered\n",
    "subTuples = [(i, len(set(filterItemByGroup(i, \"code\")))) for i in subjects] # use set to remove duplicates in a list of \"code\"s\n",
    "topNFromTuple(subTuples)"
   ]
  },
  {
   "cell_type": "code",
   "execution_count": null,
   "metadata": {},
   "outputs": [],
   "source": [
    "## f: do the same as (d) but print the top 10 subjects in terms of number of faculty teaching courses in that subject\n",
    "subTuples = [(i, len(set(filterItemByGroup(i, \"instructor\")))) for i in subjects] # set to remove duplicates in a list of instructors\n",
    "topNFromTuple(subTuples)"
   ]
  },
  {
   "cell_type": "code",
   "execution_count": null,
   "metadata": {},
   "outputs": [],
   "source": [
    "## g: list the top 20 faculty in terms of number of students they taught\n",
    "## Note: a student enrolled in 2 courses will be counted as 2 for a instrcutor, as there is no way to distinguish them!\n",
    "instructors = set([course['instructor'] for course in courses])\n",
    "subTuples = [(i, sum(filterItemByGroup(i, \"enrolled\", group = \"instructor\"))) for i in instructors]\n",
    "topNFromTuple(subTuples, 20)"
   ]
  },
  {
   "cell_type": "code",
   "execution_count": null,
   "metadata": {},
   "outputs": [],
   "source": [
    "## h: list the top 20 courses in terms of number of students taking that course (where you combine different sections and semesters, i.e. just use the subject and course number)\n",
    "## Note: here I just use the subject and course number!!\n",
    "codes = set([course['code'] for course in courses])\n",
    "subTuples = [(i, sum(filterItemByGroup(i, \"enrolled\", group = \"code\"))) for i in codes]\n",
    "topNFromTuple(subTuples, 20)"
   ]
  },
  {
   "cell_type": "code",
   "execution_count": null,
   "metadata": {},
   "outputs": [],
   "source": [
    "# i: Create your own interesting question (each team member creates their own) and use Python to answer that question.\n",
    "# zihao: who is the instructor involved in teaching courses in most subjects?\n",
    "import pandas as pd\n",
    "subdata = [[i['instructor'], i['subject']] for i in courses]\n",
    "df = pd.DataFrame(subdata, columns = ['instructor', 'subject'])\n",
    "\n",
    "df_filter = df.groupby('instructor')['subject'].apply(lambda x: len(set(x)))\n",
    "df_filter.sort_values(ascending = False)\n",
    "\n",
    "df[df['instructor'] == df_filter.sort_values(ascending = False).index[1]].drop_duplicates()"
   ]
  },
  {
   "cell_type": "code",
   "execution_count": null,
   "metadata": {},
   "outputs": [],
   "source": []
  },
  {
   "cell_type": "code",
   "execution_count": null,
   "metadata": {},
   "outputs": [],
   "source": []
  }
 ],
 "metadata": {
  "kernelspec": {
   "display_name": "Python 3 (ipykernel)",
   "language": "python",
   "name": "python3"
  },
  "language_info": {
   "codemirror_mode": {
    "name": "ipython",
    "version": 3
   },
   "file_extension": ".py",
   "mimetype": "text/x-python",
   "name": "python",
   "nbconvert_exporter": "python",
   "pygments_lexer": "ipython3",
   "version": "3.9.7"
  }
 },
 "nbformat": 4,
 "nbformat_minor": 4
}
